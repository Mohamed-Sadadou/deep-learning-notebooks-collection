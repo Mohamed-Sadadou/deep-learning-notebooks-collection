{
  "cells": [
    {
      "cell_type": "markdown",
      "metadata": {},
      "source": [
        "# Classification de Postures par Fusion d’Images et de Points Clés avec ResNet50 & MoveNet\n",
        "\n",
        "Ce notebook présente un pipeline complet pour la classification d’images selon la posture, en combinant les caractéristiques extraites par un modèle ResNet50 et les points clés du corps détectés par MoveNet.\n",
        "\n",
        "**Exemple d'application : ce notebook est utilisé pour la classification automatique des postures lors des gestes de dépistage du cancer du sein.**\n",
        "\n",
        "## Objectifs\n",
        "\n",
        "- Classifier des images selon différentes postures ou positions corporelles.\n",
        "- Utiliser à la fois les informations visuelles (features extraites par ResNet50) et les points clés du squelette humain (keypoints MoveNet) pour améliorer la robustesse de la classification.\n",
        "- Évaluer les performances du modèle sur des jeux de données réels.\n",
        "\n",
        "## Pipeline du notebook\n",
        "\n",
        "1. **Montage de Google Drive**\n",
        "   - Accès aux datasets et sauvegarde des modèles.\n",
        "\n",
        "2. **Installation et import des dépendances**\n",
        "   - TensorFlow, TensorFlow Hub, OpenCV, scikit-learn, matplotlib, seaborn, etc.\n",
        "\n",
        "3. **Préparation des données**\n",
        "   - Chargement des images organisées par classe.\n",
        "   - Détection automatique des points clés (keypoints) sur chaque image avec MoveNet.\n",
        "   - Prétraitement des images et création des labels.\n",
        "\n",
        "4. **Construction du modèle**\n",
        "   - Extraction des features visuelles avec ResNet50 (pré-entraîné ImageNet).\n",
        "   - Fusion des features ResNet et des keypoints dans un réseau de neurones dense.\n",
        "   - Entraînement du modèle sur les images et les keypoints.\n",
        "\n",
        "5. **Évaluation**\n",
        "   - Séparation des données en train/validation/test.\n",
        "   - Calcul des métriques (accuracy, précision, rappel, matrice de confusion).\n",
        "   - Visualisation des courbes de perte et de la matrice de confusion.\n",
        "\n",
        "6. **Prédiction et test**\n",
        "   - Prédiction de la classe d’une nouvelle image.\n",
        "   - Test du modèle sur un dossier d’images.\n",
        "\n",
        "7. **Gestion mémoire**\n",
        "   - Libération de la mémoire GPU/CPU après l’entraînement.\n",
        "\n",
        "## Applications\n",
        "\n",
        "- Détection automatique de postures pour le sport, la santé, la rééducation, la sécurité, etc.\n",
        "- Analyse de mouvements humains à partir d’images ou de vidéos.\n",
        "\n",
        "---\n",
        "\n",
        "> Ce notebook démontre comment combiner efficacement vision par ordinateur et analyse de pose pour améliorer la classification d’images de postures."
      ]
    },
    {
      "cell_type": "code",
      "execution_count": null,
      "metadata": {
        "colab": {
          "base_uri": "https://localhost:8080/"
        },
        "id": "5wtWWenIIM5k",
        "outputId": "474437f6-008f-4801-8bf0-71c16b48da5d"
      },
      "outputs": [
        {
          "name": "stdout",
          "output_type": "stream",
          "text": [
            "Drive already mounted at /content/drive; to attempt to forcibly remount, call drive.mount(\"/content/drive\", force_remount=True).\n"
          ]
        }
      ],
      "source": [
        "  from google.colab import drive\n",
        "drive.mount('/content/drive')"
      ]
    },
    {
      "cell_type": "code",
      "execution_count": null,
      "metadata": {
        "colab": {
          "base_uri": "https://localhost:8080/"
        },
        "collapsed": true,
        "id": "ECWu8963Lhws",
        "outputId": "050f3d48-d77a-4c6c-a2c5-8f4862cff4ba"
      },
      "outputs": [
        {
          "name": "stdout",
          "output_type": "stream",
          "text": [
            "Requirement already satisfied: tensorflow in /usr/local/lib/python3.10/dist-packages (2.15.0)\n",
            "Requirement already satisfied: tensorflow-hub in /usr/local/lib/python3.10/dist-packages (0.16.1)\n",
            "Requirement already satisfied: opencv-python in /usr/local/lib/python3.10/dist-packages (4.8.0.76)\n",
            "Requirement already satisfied: numpy in /usr/local/lib/python3.10/dist-packages (1.25.2)\n",
            "Requirement already satisfied: scikit-learn in /usr/local/lib/python3.10/dist-packages (1.2.2)\n",
            "Requirement already satisfied: matplotlib in /usr/local/lib/python3.10/dist-packages (3.7.1)\n",
            "Requirement already satisfied: seaborn in /usr/local/lib/python3.10/dist-packages (0.13.1)\n",
            "Collecting keras-applications\n",
            "  Downloading Keras_Applications-1.0.8-py3-none-any.whl (50 kB)\n",
            "\u001b[2K     \u001b[90m━━━━━━━━━━━━━━━━━━━━━━━━━━━━━━━━━━━━━━━━\u001b[0m \u001b[32m50.7/50.7 kB\u001b[0m \u001b[31m761.2 kB/s\u001b[0m eta \u001b[36m0:00:00\u001b[0m\n",
            "\u001b[?25hRequirement already satisfied: absl-py>=1.0.0 in /usr/local/lib/python3.10/dist-packages (from tensorflow) (1.4.0)\n",
            "Requirement already satisfied: astunparse>=1.6.0 in /usr/local/lib/python3.10/dist-packages (from tensorflow) (1.6.3)\n",
            "Requirement already satisfied: flatbuffers>=23.5.26 in /usr/local/lib/python3.10/dist-packages (from tensorflow) (24.3.25)\n",
            "Requirement already satisfied: gast!=0.5.0,!=0.5.1,!=0.5.2,>=0.2.1 in /usr/local/lib/python3.10/dist-packages (from tensorflow) (0.5.4)\n",
            "Requirement already satisfied: google-pasta>=0.1.1 in /usr/local/lib/python3.10/dist-packages (from tensorflow) (0.2.0)\n",
            "Requirement already satisfied: h5py>=2.9.0 in /usr/local/lib/python3.10/dist-packages (from tensorflow) (3.9.0)\n",
            "Requirement already satisfied: libclang>=13.0.0 in /usr/local/lib/python3.10/dist-packages (from tensorflow) (18.1.1)\n",
            "Requirement already satisfied: ml-dtypes~=0.2.0 in /usr/local/lib/python3.10/dist-packages (from tensorflow) (0.2.0)\n",
            "Requirement already satisfied: opt-einsum>=2.3.2 in /usr/local/lib/python3.10/dist-packages (from tensorflow) (3.3.0)\n",
            "Requirement already satisfied: packaging in /usr/local/lib/python3.10/dist-packages (from tensorflow) (24.0)\n",
            "Requirement already satisfied: protobuf!=4.21.0,!=4.21.1,!=4.21.2,!=4.21.3,!=4.21.4,!=4.21.5,<5.0.0dev,>=3.20.3 in /usr/local/lib/python3.10/dist-packages (from tensorflow) (3.20.3)\n",
            "Requirement already satisfied: setuptools in /usr/local/lib/python3.10/dist-packages (from tensorflow) (67.7.2)\n",
            "Requirement already satisfied: six>=1.12.0 in /usr/local/lib/python3.10/dist-packages (from tensorflow) (1.16.0)\n",
            "Requirement already satisfied: termcolor>=1.1.0 in /usr/local/lib/python3.10/dist-packages (from tensorflow) (2.4.0)\n",
            "Requirement already satisfied: typing-extensions>=3.6.6 in /usr/local/lib/python3.10/dist-packages (from tensorflow) (4.12.1)\n",
            "Requirement already satisfied: wrapt<1.15,>=1.11.0 in /usr/local/lib/python3.10/dist-packages (from tensorflow) (1.14.1)\n",
            "Requirement already satisfied: tensorflow-io-gcs-filesystem>=0.23.1 in /usr/local/lib/python3.10/dist-packages (from tensorflow) (0.37.0)\n",
            "Requirement already satisfied: grpcio<2.0,>=1.24.3 in /usr/local/lib/python3.10/dist-packages (from tensorflow) (1.64.1)\n",
            "Requirement already satisfied: tensorboard<2.16,>=2.15 in /usr/local/lib/python3.10/dist-packages (from tensorflow) (2.15.2)\n",
            "Requirement already satisfied: tensorflow-estimator<2.16,>=2.15.0 in /usr/local/lib/python3.10/dist-packages (from tensorflow) (2.15.0)\n",
            "Requirement already satisfied: keras<2.16,>=2.15.0 in /usr/local/lib/python3.10/dist-packages (from tensorflow) (2.15.0)\n",
            "Requirement already satisfied: tf-keras>=2.14.1 in /usr/local/lib/python3.10/dist-packages (from tensorflow-hub) (2.15.1)\n",
            "Requirement already satisfied: scipy>=1.3.2 in /usr/local/lib/python3.10/dist-packages (from scikit-learn) (1.11.4)\n",
            "Requirement already satisfied: joblib>=1.1.1 in /usr/local/lib/python3.10/dist-packages (from scikit-learn) (1.4.2)\n",
            "Requirement already satisfied: threadpoolctl>=2.0.0 in /usr/local/lib/python3.10/dist-packages (from scikit-learn) (3.5.0)\n",
            "Requirement already satisfied: contourpy>=1.0.1 in /usr/local/lib/python3.10/dist-packages (from matplotlib) (1.2.1)\n",
            "Requirement already satisfied: cycler>=0.10 in /usr/local/lib/python3.10/dist-packages (from matplotlib) (0.12.1)\n",
            "Requirement already satisfied: fonttools>=4.22.0 in /usr/local/lib/python3.10/dist-packages (from matplotlib) (4.53.0)\n",
            "Requirement already satisfied: kiwisolver>=1.0.1 in /usr/local/lib/python3.10/dist-packages (from matplotlib) (1.4.5)\n",
            "Requirement already satisfied: pillow>=6.2.0 in /usr/local/lib/python3.10/dist-packages (from matplotlib) (9.4.0)\n",
            "Requirement already satisfied: pyparsing>=2.3.1 in /usr/local/lib/python3.10/dist-packages (from matplotlib) (3.1.2)\n",
            "Requirement already satisfied: python-dateutil>=2.7 in /usr/local/lib/python3.10/dist-packages (from matplotlib) (2.8.2)\n",
            "Requirement already satisfied: pandas>=1.2 in /usr/local/lib/python3.10/dist-packages (from seaborn) (2.0.3)\n",
            "Requirement already satisfied: wheel<1.0,>=0.23.0 in /usr/local/lib/python3.10/dist-packages (from astunparse>=1.6.0->tensorflow) (0.43.0)\n",
            "Requirement already satisfied: pytz>=2020.1 in /usr/local/lib/python3.10/dist-packages (from pandas>=1.2->seaborn) (2023.4)\n",
            "Requirement already satisfied: tzdata>=2022.1 in /usr/local/lib/python3.10/dist-packages (from pandas>=1.2->seaborn) (2024.1)\n",
            "Requirement already satisfied: google-auth<3,>=1.6.3 in /usr/local/lib/python3.10/dist-packages (from tensorboard<2.16,>=2.15->tensorflow) (2.27.0)\n",
            "Requirement already satisfied: google-auth-oauthlib<2,>=0.5 in /usr/local/lib/python3.10/dist-packages (from tensorboard<2.16,>=2.15->tensorflow) (1.2.0)\n",
            "Requirement already satisfied: markdown>=2.6.8 in /usr/local/lib/python3.10/dist-packages (from tensorboard<2.16,>=2.15->tensorflow) (3.6)\n",
            "Requirement already satisfied: requests<3,>=2.21.0 in /usr/local/lib/python3.10/dist-packages (from tensorboard<2.16,>=2.15->tensorflow) (2.31.0)\n",
            "Requirement already satisfied: tensorboard-data-server<0.8.0,>=0.7.0 in /usr/local/lib/python3.10/dist-packages (from tensorboard<2.16,>=2.15->tensorflow) (0.7.2)\n",
            "Requirement already satisfied: werkzeug>=1.0.1 in /usr/local/lib/python3.10/dist-packages (from tensorboard<2.16,>=2.15->tensorflow) (3.0.3)\n",
            "Requirement already satisfied: cachetools<6.0,>=2.0.0 in /usr/local/lib/python3.10/dist-packages (from google-auth<3,>=1.6.3->tensorboard<2.16,>=2.15->tensorflow) (5.3.3)\n",
            "Requirement already satisfied: pyasn1-modules>=0.2.1 in /usr/local/lib/python3.10/dist-packages (from google-auth<3,>=1.6.3->tensorboard<2.16,>=2.15->tensorflow) (0.4.0)\n",
            "Requirement already satisfied: rsa<5,>=3.1.4 in /usr/local/lib/python3.10/dist-packages (from google-auth<3,>=1.6.3->tensorboard<2.16,>=2.15->tensorflow) (4.9)\n",
            "Requirement already satisfied: requests-oauthlib>=0.7.0 in /usr/local/lib/python3.10/dist-packages (from google-auth-oauthlib<2,>=0.5->tensorboard<2.16,>=2.15->tensorflow) (1.3.1)\n",
            "Requirement already satisfied: charset-normalizer<4,>=2 in /usr/local/lib/python3.10/dist-packages (from requests<3,>=2.21.0->tensorboard<2.16,>=2.15->tensorflow) (3.3.2)\n",
            "Requirement already satisfied: idna<4,>=2.5 in /usr/local/lib/python3.10/dist-packages (from requests<3,>=2.21.0->tensorboard<2.16,>=2.15->tensorflow) (3.7)\n",
            "Requirement already satisfied: urllib3<3,>=1.21.1 in /usr/local/lib/python3.10/dist-packages (from requests<3,>=2.21.0->tensorboard<2.16,>=2.15->tensorflow) (2.0.7)\n",
            "Requirement already satisfied: certifi>=2017.4.17 in /usr/local/lib/python3.10/dist-packages (from requests<3,>=2.21.0->tensorboard<2.16,>=2.15->tensorflow) (2024.6.2)\n",
            "Requirement already satisfied: MarkupSafe>=2.1.1 in /usr/local/lib/python3.10/dist-packages (from werkzeug>=1.0.1->tensorboard<2.16,>=2.15->tensorflow) (2.1.5)\n",
            "Requirement already satisfied: pyasn1<0.7.0,>=0.4.6 in /usr/local/lib/python3.10/dist-packages (from pyasn1-modules>=0.2.1->google-auth<3,>=1.6.3->tensorboard<2.16,>=2.15->tensorflow) (0.6.0)\n",
            "Requirement already satisfied: oauthlib>=3.0.0 in /usr/local/lib/python3.10/dist-packages (from requests-oauthlib>=0.7.0->google-auth-oauthlib<2,>=0.5->tensorboard<2.16,>=2.15->tensorflow) (3.2.2)\n",
            "Installing collected packages: keras-applications\n",
            "Successfully installed keras-applications-1.0.8\n"
          ]
        }
      ],
      "source": [
        "!pip install tensorflow tensorflow-hub opencv-python numpy scikit-learn matplotlib seaborn keras-applications"
      ]
    },
    {
      "cell_type": "code",
      "execution_count": null,
      "metadata": {
        "colab": {
          "base_uri": "https://localhost:8080/"
        },
        "collapsed": true,
        "id": "CpL7yw2IRZvR",
        "outputId": "8afc08b3-886f-4424-87f8-470cc3f7dd86"
      },
      "outputs": [
        {
          "name": "stdout",
          "output_type": "stream",
          "text": [
            "GPU is available and set to memory growth mode\n"
          ]
        }
      ],
      "source": [
        "import tensorflow as tf\n",
        "import tensorflow_hub as hub\n",
        "import cv2\n",
        "import numpy as np\n",
        "import os\n",
        "from tensorflow.keras.models import Model, load_model\n",
        "from tensorflow.keras.layers import Dense, Dropout, GlobalAveragePooling2D, Concatenate, Input, Flatten\n",
        "from tensorflow.keras.optimizers import Adam\n",
        "from tensorflow.keras.applications import ResNet50\n",
        "from tensorflow.keras.applications.resnet50 import preprocess_input\n",
        "from sklearn.metrics import confusion_matrix, accuracy_score, precision_score, recall_score\n",
        "from sklearn.model_selection import train_test_split\n",
        "import matplotlib.pyplot as plt\n",
        "import seaborn as sns\n",
        "\n",
        "physical_devices = tf.config.list_physical_devices('GPU')\n",
        "if len(physical_devices) > 0:\n",
        "    tf.config.experimental.set_memory_growth(physical_devices[0], True)\n",
        "    print(\"GPU is available and set to memory growth mode\")\n",
        "else:\n",
        "    print(\"No GPU found, using CPU\")\n",
        "\n",
        "model_movenet = hub.load(\"https://tfhub.dev/google/movenet/singlepose/thunder/4\")\n",
        "movenet = model_movenet.signatures['serving_default']\n",
        "\n",
        "def detect_keypoints(image):\n",
        "    input_image = tf.image.resize(image, (256, 256))\n",
        "    input_image = tf.expand_dims(input_image, axis=0)\n",
        "    input_image = tf.cast(input_image, dtype=tf.int32)\n",
        "\n",
        "    outputs = movenet(input_image)\n",
        "    keypoints = outputs['output_0'].numpy()\n",
        "\n",
        "    return keypoints[0][0]\n",
        "\n",
        "def load_and_process_images(base_path):\n",
        "    images = []\n",
        "    keypoints_list = []\n",
        "    labels = []\n",
        "    class_names = sorted(os.listdir(base_path))\n",
        "\n",
        "    for class_name in class_names:\n",
        "        class_path = os.path.join(base_path, class_name)\n",
        "        label = class_names.index(class_name)\n",
        "\n",
        "        for filename in os.listdir(class_path):\n",
        "            if filename.endswith(\".jpg\") or filename.endswith(\".png\"):\n",
        "                image_path = os.path.join(class_path, filename)\n",
        "                image = cv2.imread(image_path)\n",
        "                image_rgb = cv2.cvtColor(image, cv2.COLOR_BGR2RGB)\n",
        "\n",
        "                keypoints = detect_keypoints(image_rgb)\n",
        "                keypoints_list.append(keypoints)\n",
        "\n",
        "                image_rgb = cv2.resize(image_rgb, (224, 224))\n",
        "                image_rgb = preprocess_input(image_rgb)\n",
        "                images.append(image_rgb)\n",
        "                labels.append(label)\n",
        "\n",
        "    return np.array(images), np.array(keypoints_list), np.array(labels), class_names\n",
        "\n",
        "train_base_path = '/content/drive/MyDrive/Master 2/dataset_aug/train'\n",
        "test_base_path = '/content/drive/MyDrive/Master 2/dataset_aug/test'\n",
        "\n",
        "X_train_images, X_train_keypoints, y_train, class_names = load_and_process_images(train_base_path)\n",
        "X_test_images, X_test_keypoints, y_test, _ = load_and_process_images(test_base_path)\n",
        "\n",
        "X_train_images, X_val_images, X_train_keypoints, X_val_keypoints, y_train, y_val = train_test_split(\n",
        "    X_train_images, X_train_keypoints, y_train, test_size=0.15, random_state=42\n",
        ")"
      ]
    },
    {
      "cell_type": "code",
      "execution_count": null,
      "metadata": {
        "colab": {
          "base_uri": "https://localhost:8080/",
          "height": 1000
        },
        "id": "mwr1vKptTI2B",
        "outputId": "63f1f7c0-7bbe-43d0-a4ce-1c22e662012e"
      },
      "outputs": [
        {
          "name": "stdout",
          "output_type": "stream",
          "text": [
            "Epoch 1/15\n",
            "15/15 [==============================] - 57s 1s/step - loss: 1.3450 - accuracy: 0.4175 - val_loss: 0.6528 - val_accuracy: 0.8699\n",
            "Epoch 2/15\n",
            "15/15 [==============================] - 8s 505ms/step - loss: 0.4640 - accuracy: 0.8594 - val_loss: 0.2372 - val_accuracy: 0.9268\n",
            "Epoch 3/15\n",
            "15/15 [==============================] - 8s 509ms/step - loss: 0.1182 - accuracy: 0.9742 - val_loss: 0.0252 - val_accuracy: 0.9919\n",
            "Epoch 4/15\n",
            "15/15 [==============================] - 8s 505ms/step - loss: 0.0349 - accuracy: 0.9914 - val_loss: 0.0020 - val_accuracy: 1.0000\n",
            "Epoch 5/15\n",
            "15/15 [==============================] - 8s 506ms/step - loss: 0.0114 - accuracy: 1.0000 - val_loss: 5.0647e-04 - val_accuracy: 1.0000\n",
            "Epoch 6/15\n",
            "15/15 [==============================] - 8s 534ms/step - loss: 0.0052 - accuracy: 1.0000 - val_loss: 1.7569e-04 - val_accuracy: 1.0000\n",
            "Epoch 7/15\n",
            "15/15 [==============================] - 8s 523ms/step - loss: 0.0054 - accuracy: 1.0000 - val_loss: 1.9203e-04 - val_accuracy: 1.0000\n",
            "Epoch 8/15\n",
            "15/15 [==============================] - 8s 503ms/step - loss: 0.0027 - accuracy: 1.0000 - val_loss: 0.0014 - val_accuracy: 1.0000\n",
            "Epoch 9/15\n",
            "15/15 [==============================] - 8s 511ms/step - loss: 0.0034 - accuracy: 0.9986 - val_loss: 7.6805e-05 - val_accuracy: 1.0000\n",
            "Epoch 10/15\n",
            "15/15 [==============================] - 8s 509ms/step - loss: 0.0017 - accuracy: 1.0000 - val_loss: 1.3484e-04 - val_accuracy: 1.0000\n",
            "Epoch 11/15\n",
            "15/15 [==============================] - 7s 491ms/step - loss: 0.0024 - accuracy: 1.0000 - val_loss: 1.1068e-04 - val_accuracy: 1.0000\n",
            "Epoch 12/15\n",
            "15/15 [==============================] - 8s 507ms/step - loss: 0.0012 - accuracy: 1.0000 - val_loss: 1.4865e-04 - val_accuracy: 1.0000\n",
            "Epoch 13/15\n",
            "15/15 [==============================] - 8s 514ms/step - loss: 8.3001e-04 - accuracy: 1.0000 - val_loss: 1.4997e-04 - val_accuracy: 1.0000\n",
            "Epoch 14/15\n",
            "15/15 [==============================] - 7s 490ms/step - loss: 0.0010 - accuracy: 1.0000 - val_loss: 1.3134e-04 - val_accuracy: 1.0000\n",
            "Epoch 15/15\n",
            "15/15 [==============================] - 7s 499ms/step - loss: 7.5863e-04 - accuracy: 1.0000 - val_loss: 1.0434e-04 - val_accuracy: 1.0000\n"
          ]
        },
        {
          "name": "stderr",
          "output_type": "stream",
          "text": [
            "/usr/local/lib/python3.10/dist-packages/keras/src/engine/training.py:3103: UserWarning: You are saving your model as an HDF5 file via `model.save()`. This file format is considered legacy. We recommend using instead the native Keras format, e.g. `model.save('my_model.keras')`.\n",
            "  saving_api.save_model(\n"
          ]
        },
        {
          "name": "stdout",
          "output_type": "stream",
          "text": [
            "9/9 [==============================] - 6s 206ms/step - loss: 0.2977 - accuracy: 0.8939\n",
            "Accuracy: 0.8939393758773804\n",
            "9/9 [==============================] - 2s 94ms/step\n",
            "Confusion Matrix:\n",
            "[[55  5  1  5]\n",
            " [ 1 52  3 10]\n",
            " [ 2  0 57  1]\n",
            " [ 0  0  0 72]]\n",
            "Accuracy: 0.8939393939393939\n",
            "Precision: 0.9006492344391057\n",
            "Recall: 0.8939393939393939\n"
          ]
        },
        {
          "data": {
            "image/png": "[encoded data removed]",
            "text/plain": [
              "<Figure size 1000x800 with 2 Axes>"
            ]
          },
          "metadata": {},
          "output_type": "display_data"
        },
        {
          "data": {
            "image/png": "[encoded data removed]",
            "text/plain": [
              "<Figure size 1000x800 with 1 Axes>"
            ]
          },
          "metadata": {},
          "output_type": "display_data"
        }
      ],
      "source": [
        "base_model = ResNet50(weights='imagenet', include_top=False, input_shape=(224, 224, 3))\n",
        "\n",
        "x = base_model.output\n",
        "x = GlobalAveragePooling2D()(x)\n",
        "\n",
        "keypoints_input = Input(shape=(17, 3))\n",
        "flattened_keypoints = Flatten()(keypoints_input)\n",
        "\n",
        "combined = Concatenate()([x, flattened_keypoints])\n",
        "\n",
        "combined = Dense(1024, activation='relu')(combined)\n",
        "combined = Dropout(0.5)(combined)\n",
        "combined = Dense(512, activation='relu')(combined)\n",
        "combined = Dropout(0.5)(combined)\n",
        "predictions = Dense(len(class_names), activation='softmax')(combined)\n",
        "\n",
        "model = Model(inputs=[base_model.input, keypoints_input], outputs=predictions)\n",
        "\n",
        "for layer in base_model.layers[-15:]:\n",
        "    layer.trainable = True\n",
        "\n",
        "model.compile(optimizer=Adam(learning_rate=1e-4), loss='sparse_categorical_crossentropy', metrics=['accuracy'])\n",
        "\n",
        "history = model.fit(\n",
        "    [X_train_images, X_train_keypoints], y_train,\n",
        "    epochs=15, batch_size=48,\n",
        "    validation_data=([X_val_images, X_val_keypoints], y_val)\n",
        ")\n",
        "\n",
        "model.save('/content/drive/MyDrive/Master 2/pose_classification_model_resnet_with_keypoints_V1.h5')\n",
        "\n",
        "loaded_model = load_model('/content/drive/MyDrive/Master 2/pose_classification_model_resnet_with_keypoints_V1.h5')\n",
        "\n",
        "loss, accuracy = loaded_model.evaluate([X_test_images, X_test_keypoints], y_test)\n",
        "print(f'Accuracy: {accuracy}')\n",
        "\n",
        "y_pred = loaded_model.predict([X_test_images, X_test_keypoints])\n",
        "y_pred_classes = np.argmax(y_pred, axis=1)\n",
        "\n",
        "conf_matrix = confusion_matrix(y_test, y_pred_classes)\n",
        "\n",
        "accuracy = accuracy_score(y_test, y_pred_classes)\n",
        "precision = precision_score(y_test, y_pred_classes, average='weighted')\n",
        "recall = recall_score(y_test, y_pred_classes, average='weighted')\n",
        "\n",
        "print(f'Confusion Matrix:\\n{conf_matrix}')\n",
        "print(f'Accuracy: {accuracy}')\n",
        "print(f'Precision: {precision}')\n",
        "print(f'Recall: {recall}')\n",
        "\n",
        "plt.figure(figsize=(10, 8))\n",
        "sns.heatmap(conf_matrix, annot=True, fmt='d', cmap='Blues', xticklabels=class_names, yticklabels=class_names)\n",
        "plt.xlabel('Predicted')\n",
        "plt.ylabel('True')\n",
        "plt.title('Confusion Matrix')\n",
        "plt.show()\n",
        "\n",
        "plt.figure(figsize=(10, 8))\n",
        "plt.plot(history.history['loss'], label='Train Loss')\n",
        "plt.plot(history.history['val_loss'], label='Validation Loss')\n",
        "plt.xlabel('Epochs')\n",
        "plt.ylabel('Loss')\n",
        "plt.title('Training and Validation Loss')\n",
        "plt.legend()\n",
        "plt.show()\n"
      ]
    },
    {
      "cell_type": "code",
      "execution_count": null,
      "metadata": {
        "colab": {
          "base_uri": "https://localhost:8080/"
        },
        "id": "VJEFn9CvqwFE",
        "outputId": "a60f7323-3df6-4d74-dc3d-b1831976c483"
      },
      "outputs": [
        {
          "name": "stdout",
          "output_type": "stream",
          "text": [
            "Error removing variables: local variable 'model' referenced before assignment\n",
            "TensorFlow session cleared.\n"
          ]
        }
      ],
      "source": [
        "import tensorflow as tf\n",
        "from keras import backend as K\n",
        "\n",
        "def clear_memory():\n",
        "    try:\n",
        "        del model\n",
        "        del X_train, y_train, X_test, y_test, X_val_images, X_val_keypoints\n",
        "        print(\"Variables removed successfully.\")\n",
        "    except NameError as e:\n",
        "        print(f\"Error removing variables: {e}\")\n",
        "\n",
        "    K.clear_session()\n",
        "\n",
        "    tf.config.experimental.set_memory_growth(tf.config.list_physical_devices('GPU')[0], True)\n",
        "\n",
        "    tf.compat.v1.reset_default_graph()\n",
        "\n",
        "    print(\"TensorFlow session cleared.\")\n",
        "\n",
        "clear_memory()\n"
      ]
    },
    {
      "cell_type": "code",
      "execution_count": null,
      "metadata": {
        "id": "yPvVmTbUF1GM"
      },
      "outputs": [],
      "source": [
        "\n",
        "def predict_class(image_path, model, class_names, threshold=0.5):\n",
        "    image = cv2.imread(image_path)\n",
        "    image_rgb = cv2.cvtColor(image, cv2.COLOR_BGR2RGB)\n",
        "\n",
        "    keypoints = detect_keypoints(image_rgb)\n",
        "    keypoints = np.expand_dims(keypoints, axis=0)\n",
        "\n",
        "    image_rgb = cv2.resize(image_rgb, (224, 224))\n",
        "    image_rgb = preprocess_input(image_rgb)\n",
        "    image_rgb = np.expand_dims(image_rgb, axis=0)\n",
        "\n",
        "    predictions = model.predict([image_rgb, keypoints])\n",
        "    max_confidence = np.max(predictions)\n",
        "    class_index = np.argmax(predictions)\n",
        "\n",
        "    if max_confidence < threshold:\n",
        "        return \"Pose incorrecte\", max_confidence\n",
        "    else:\n",
        "        return class_names[class_index], max_confidence\n",
        "\n",
        "test_image_path = 'test2.jpg'\n",
        "predicted_class, confidence = predict_class(test_image_path, loaded_model, class_names)\n",
        "print(f'The predicted class is: {predicted_class} with confidence: {confidence}')\n",
        "\n",
        "def test_model_on_images(test_images_path, model, class_names):\n",
        "    for filename in os.listdir(test_images_path):\n",
        "        if filename.endswith(\".jpg\") or filename.endswith(\".png\"):\n",
        "            image_path = os.path.join(test_images_path, filename)\n",
        "            predicted_class, confidence = predict_class(image_path, model, class_names)\n",
        "            print(f'The predicted class for {filename} is: {predicted_class} with confidence: {confidence}')\n",
        "\n",
        "test_images_path = 'test_images'\n",
        "\n",
        "test_model_on_images(test_images_path, loaded_model, class_names)\n"
      ]
    },
    {
      "cell_type": "code",
      "execution_count": null,
      "metadata": {
        "colab": {
          "base_uri": "https://localhost:8080/"
        },
        "id": "miDIsKOYZnZO",
        "outputId": "32eb4319-968f-4c8e-98d6-8e37a05d7eca"
      },
      "outputs": [
        {
          "name": "stdout",
          "output_type": "stream",
          "text": [
            "GPU is available and set to memory growth mode\n",
            "9/9 [==============================] - 5s 196ms/step - loss: 0.2977 - accuracy: 0.8939\n",
            "Accuracy: 0.8939393758773804\n",
            "1/1 [==============================] - 2s 2s/step\n",
            "Time taken for inference on a single image: 2.6563868522644043 seconds\n",
            "9/9 [==============================] - 1s 84ms/step\n",
            "Confusion Matrix:\n",
            "[[55  5  1  5]\n",
            " [ 1 52  3 10]\n",
            " [ 2  0 57  1]\n",
            " [ 0  0  0 72]]\n",
            "Accuracy: 0.8939393939393939\n",
            "Precision: 0.9006492344391057\n",
            "Recall: 0.8939393939393939\n"
          ]
        }
      ],
      "source": [
        "import time\n",
        "import numpy as np\n",
        "from tensorflow.keras.models import load_model\n",
        "from sklearn.metrics import confusion_matrix, accuracy_score, precision_score, recall_score\n",
        "import tensorflow as tf\n",
        "import tensorflow_hub as hub\n",
        "import cv2\n",
        "import numpy as np\n",
        "import os\n",
        "from tensorflow.keras.models import Model, load_model\n",
        "from tensorflow.keras.layers import Dense, Dropout, GlobalAveragePooling2D, Concatenate, Input, Flatten\n",
        "from tensorflow.keras.optimizers import Adam\n",
        "from tensorflow.keras.applications import ResNet50\n",
        "from tensorflow.keras.applications.resnet50 import preprocess_input\n",
        "from sklearn.metrics import confusion_matrix, accuracy_score, precision_score, recall_score\n",
        "from sklearn.model_selection import train_test_split\n",
        "import matplotlib.pyplot as plt\n",
        "import seaborn as sns\n",
        "\n",
        "physical_devices = tf.config.list_physical_devices('GPU')\n",
        "if len(physical_devices) > 0:\n",
        "    tf.config.experimental.set_memory_growth(physical_devices[0], True)\n",
        "    print(\"GPU is available and set to memory growth mode\")\n",
        "else:\n",
        "    print(\"No GPU found, using CPU\")\n",
        "\n",
        "model_movenet = hub.load(\"https://tfhub.dev/google/movenet/singlepose/thunder/4\")\n",
        "movenet = model_movenet.signatures['serving_default']\n",
        "\n",
        "def detect_keypoints(image):\n",
        "    input_image = tf.image.resize(image, (256, 256))\n",
        "    input_image = tf.expand_dims(input_image, axis=0)\n",
        "    input_image = tf.cast(input_image, dtype=tf.int32)\n",
        "\n",
        "    outputs = movenet(input_image)\n",
        "    keypoints = outputs['output_0'].numpy()\n",
        "\n",
        "    return keypoints[0][0]\n",
        "\n",
        "def load_and_process_images(base_path):\n",
        "    images = []\n",
        "    keypoints_list = []\n",
        "    labels = []\n",
        "    class_names = sorted(os.listdir(base_path))\n",
        "\n",
        "    for class_name in class_names:\n",
        "        class_path = os.path.join(base_path, class_name)\n",
        "        label = class_names.index(class_name)\n",
        "\n",
        "        for filename in os.listdir(class_path):\n",
        "            if filename.endswith(\".jpg\") or filename.endswith(\".png\"):\n",
        "                image_path = os.path.join(class_path, filename)\n",
        "                image = cv2.imread(image_path)\n",
        "                image_rgb = cv2.cvtColor(image, cv2.COLOR_BGR2RGB)\n",
        "\n",
        "                keypoints = detect_keypoints(image_rgb)\n",
        "                keypoints_list.append(keypoints)\n",
        "\n",
        "                image_rgb = cv2.resize(image_rgb, (224, 224))\n",
        "                image_rgb = preprocess_input(image_rgb)\n",
        "                images.append(image_rgb)\n",
        "                labels.append(label)\n",
        "\n",
        "    return np.array(images), np.array(keypoints_list), np.array(labels), class_names\n",
        "\n",
        "loaded_model = load_model('/content/drive/MyDrive/Master 2/pose_classification_model_resnet_with_keypoints_V1.h5')\n",
        "\n",
        "train_base_path = '/content/drive/MyDrive/Master 2/dataset_aug/train'\n",
        "test_base_path = '/content/drive/MyDrive/Master 2/dataset_aug/test'\n",
        "\n",
        "X_train_images, X_train_keypoints, y_train, class_names = load_and_process_images(train_base_path)\n",
        "X_test_images, X_test_keypoints, y_test, _ = load_and_process_images(test_base_path)\n",
        "\n",
        "X_train_images, X_val_images, X_train_keypoints, X_val_keypoints, y_train, y_val = train_test_split(\n",
        "    X_train_images, X_train_keypoints, y_train, test_size=0.15, random_state=42\n",
        ")\n",
        "\n",
        "loss, accuracy = loaded_model.evaluate([X_test_images, X_test_keypoints], y_test)\n",
        "print(f'Accuracy: {accuracy}')\n",
        "\n",
        "single_image = np.expand_dims(X_test_images[0], axis=0)\n",
        "single_keypoints = np.expand_dims(X_test_keypoints[0], axis=0)\n",
        "start_time = time.time()\n",
        "single_pred = loaded_model.predict([single_image, single_keypoints])\n",
        "end_time = time.time()\n",
        "\n",
        "single_inference_time = end_time - start_time\n",
        "print(f'Time taken for inference on a single image: {single_inference_time} seconds')\n",
        "\n",
        "y_pred = loaded_model.predict([X_test_images, X_test_keypoints])\n",
        "y_pred_classes = np.argmax(y_pred, axis=1)\n",
        "\n",
        "conf_matrix = confusion_matrix(y_test, y_pred_classes)\n",
        "accuracy = accuracy_score(y_test, y_pred_classes)\n",
        "precision = precision_score(y_test, y_pred_classes, average='weighted')\n",
        "recall = recall_score(y_test, y_pred_classes, average='weighted')\n",
        "\n",
        "print(f'Confusion Matrix:\\n{conf_matrix}')\n",
        "print(f'Accuracy: {accuracy}')\n",
        "print(f'Precision: {precision}')\n",
        "print(f'Recall: {recall}')\n"
      ]
    },
    {
      "cell_type": "code",
      "execution_count": null,
      "metadata": {
        "colab": {
          "base_uri": "https://localhost:8080/"
        },
        "id": "1D6HT9RWapc2",
        "outputId": "7cd37a85-a46a-45a4-d7ee-70793790757f"
      },
      "outputs": [
        {
          "name": "stdout",
          "output_type": "stream",
          "text": [
            "Mounted at /content/drive\n"
          ]
        }
      ],
      "source": [
        "from google.colab import drive\n",
        "drive.mount('/content/drive')"
      ]
    }
  ],
  "metadata": {
    "accelerator": "TPU",
    "colab": {
      "gpuType": "V6E1",
      "machine_shape": "hm",
      "provenance": []
    },
    "kernelspec": {
      "display_name": "Python 3",
      "name": "python3"
    },
    "language_info": {
      "name": "python"
    }
  },
  "nbformat": 4,
  "nbformat_minor": 0
}
